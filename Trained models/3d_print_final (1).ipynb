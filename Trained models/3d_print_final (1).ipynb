{
  "nbformat": 4,
  "nbformat_minor": 0,
  "metadata": {
    "colab": {
      "provenance": [],
      "gpuType": "T4"
    },
    "kernelspec": {
      "name": "python3",
      "display_name": "Python 3"
    },
    "language_info": {
      "name": "python"
    },
    "accelerator": "GPU"
  },
  "cells": [
    {
      "cell_type": "code",
      "execution_count": 1,
      "metadata": {
        "id": "1sfoe7dZ_gMG"
      },
      "outputs": [],
      "source": [
        "!mkdir -p ~/.kaggle\n",
        "!mv kaggle.json ~/.kaggle/"
      ]
    },
    {
      "cell_type": "code",
      "source": [
        "!kaggle datasets download -d mikulhe/3d-printing-errors"
      ],
      "metadata": {
        "colab": {
          "base_uri": "https://localhost:8080/"
        },
        "id": "JyQX2q2a_hW1",
        "outputId": "5263531b-bd39-41ea-c7ec-91f6eda729cf"
      },
      "execution_count": 2,
      "outputs": [
        {
          "output_type": "stream",
          "name": "stdout",
          "text": [
            "Warning: Your Kaggle API key is readable by other users on this system! To fix this, you can run 'chmod 600 /root/.kaggle/kaggle.json'\n",
            "Downloading 3d-printing-errors.zip to /content\n",
            "100% 104M/104M [00:06<00:00, 23.7MB/s] \n",
            "100% 104M/104M [00:06<00:00, 18.2MB/s]\n"
          ]
        }
      ]
    },
    {
      "cell_type": "code",
      "source": [
        "!unzip \\*.zip"
      ],
      "metadata": {
        "colab": {
          "base_uri": "https://localhost:8080/"
        },
        "id": "J4rD81Vr_2Ye",
        "outputId": "1d99b00f-3b86-4b8c-de00-fa26ec6b7e55"
      },
      "execution_count": 3,
      "outputs": [
        {
          "output_type": "stream",
          "name": "stdout",
          "text": [
            "Archive:  3d-printing-errors.zip\n",
            "  inflating: OK/01s8lOzd24t1s3pHCdDtLUA-1.fit_lim.size_1050x.jpg  \n",
            "  inflating: OK/01s8lOzd24t1s3pHCdDtLUA-8..v1569485513.jpg  \n",
            "  inflating: OK/1226899_81_111236_gTOoP6wNM.jpg  \n",
            "  inflating: OK/2.-Can-Bomb.jpg      \n",
            "  inflating: OK/2rtlwsmpm1m81.jpg    \n",
            "  inflating: OK/3-d_printing.jpg     \n",
            "  inflating: OK/3D-Printing-Is-Changing-the-Global-Manufacturing-Landscape.jpg  \n",
            "  inflating: OK/3D-dPrinting.jpg     \n",
            "  inflating: OK/3D-printer-4.jpg     \n",
            "  inflating: OK/3D-printer-photos-2020-2x1-lowres9405-1024x512-1.jpg  \n",
            "  inflating: OK/3D-printing (1).jpg  \n",
            "  inflating: OK/3D-printing-is-revolutionizing-education.jpg  \n",
            "  inflating: OK/3ah4sfvny2m81.jpg    \n",
            "  inflating: OK/3d-printed-files-scaled-1.jpg  \n",
            "  inflating: OK/3d-printer---hand.jpg  \n",
            "  inflating: OK/3d-printers_resize_md.jpg  \n",
            "  inflating: OK/3d-printing-materials-600x375.jpg  \n",
            "  inflating: OK/3d-printing-technology.jpg  \n",
            "  inflating: OK/3d-printing.jpg      \n",
            "  inflating: OK/3d.jpg               \n",
            "  inflating: OK/3dprinting.jpg       \n",
            "  inflating: OK/4Jb5bNTPZBSfzBBYFJve35-320-80.jpg  \n",
            "  inflating: OK/5cf59a0abb206b766710d395cf7f02db.jpg  \n",
            "  inflating: OK/960x0.jpg            \n",
            "  inflating: OK/AD-Essentiasl-All-3d.jpg  \n",
            "  inflating: OK/DSC_1007-1-1-scaled.jpg  \n",
            "  inflating: OK/EjfeSVIXcAUoy7J-scaled.jpg  \n",
            "  inflating: OK/FD.jpg               \n",
            "  inflating: OK/Geared-Hinge-Cool-Things-3D-Print.jpg  \n",
            "  inflating: OK/LAL_8195.jpeg        \n",
            "  inflating: OK/Octopi.jpg           \n",
            "  inflating: OK/Snmek obrazovky 2022-04-01 122720.jpg  \n",
            "  inflating: OK/Snmek obrazovky 2022-04-01 122805.jpg  \n",
            "  inflating: OK/Snmek obrazovky 2022-04-01 122829.jpg  \n",
            "  inflating: OK/Snmek obrazovky 2022-04-01 122919.jpg  \n",
            "  inflating: OK/Snmek obrazovky 2022-04-01 122934.jpg  \n",
            "  inflating: OK/Snmek obrazovky 2022-04-01 122952.jpg  \n",
            "  inflating: OK/Snmek obrazovky 2022-04-01 211241.jpg  \n",
            "  inflating: OK/Snmek obrazovky 2022-04-01 211405.jpg  \n",
            "  inflating: OK/Snmek obrazovky 2022-04-01 211425.jpg  \n",
            "  inflating: OK/Snmek obrazovky 2022-04-01 211452.jpg  \n",
            "  inflating: OK/Snmek obrazovky 2022-04-01 211517.jpg  \n",
            "  inflating: OK/Snmek obrazovky 2022-04-01 211704.jpg  \n",
            "  inflating: OK/Snmek obrazovky 2022-04-01 211728.jpg  \n",
            "  inflating: OK/Snmek obrazovky 2022-04-01 211803.jpg  \n",
            "  inflating: OK/Snmek obrazovky 2022-04-01 211820.jpg  \n",
            "  inflating: OK/Snmek obrazovky 2022-04-01 211853.jpg  \n",
            "  inflating: OK/Snmek obrazovky 2022-04-01 211954.jpg  \n",
            "  inflating: OK/Snmek obrazovky 2022-04-01 212213.jpg  \n",
            "  inflating: OK/Snmek obrazovky 2022-04-01 212245.jpg  \n",
            "  inflating: OK/Snmek obrazovky 2022-04-01 212334.jpg  \n",
            "  inflating: OK/Snmek obrazovky 2022-04-01 212352.jpg  \n",
            "  inflating: OK/Snmek obrazovky 2022-04-01 212902.jpg  \n",
            "  inflating: OK/Snmek obrazovky 2022-04-01 212915.jpg  \n",
            "  inflating: OK/Snmek obrazovky 2022-04-01 212927.jpg  \n",
            "  inflating: OK/Snmek obrazovky 2022-04-01 213025.jpg  \n",
            "  inflating: OK/Snmek obrazovky 2022-04-01 213050.jpg  \n",
            "  inflating: OK/Snmek obrazovky 2022-04-01 213245.jpg  \n",
            "  inflating: OK/Snmek obrazovky 2022-04-01 213309.jpg  \n",
            "  inflating: OK/Snmek obrazovky 2022-04-01 213357.jpg  \n",
            "  inflating: OK/Snmek obrazovky 2022-04-01 213505.jpg  \n",
            "  inflating: OK/Snmek obrazovky 2022-04-01 213521.jpg  \n",
            "  inflating: OK/Snmek obrazovky 2022-04-01 214300.jpg  \n",
            "  inflating: OK/Snmek obrazovky 2022-04-01 214316.jpg  \n",
            "  inflating: OK/Snmek obrazovky 2022-04-01 214343.jpg  \n",
            "  inflating: OK/Snmek obrazovky 2022-04-01 214414.jpg  \n",
            "  inflating: OK/Snmek obrazovky 2022-04-01 214453.jpg  \n",
            "  inflating: OK/Snmek obrazovky 2022-04-01 214530.jpg  \n",
            "  inflating: OK/Snmek obrazovky 2022-04-01 214613.jpg  \n",
            "  inflating: OK/Snmek obrazovky 2022-04-01 214718.jpg  \n",
            "  inflating: OK/Snmek obrazovky 2022-04-01 214823.jpg  \n",
            "  inflating: OK/Snmek obrazovky 2022-04-01 214839.jpg  \n",
            "  inflating: OK/Snmek obrazovky 2022-04-01 215014.jpg  \n",
            "  inflating: OK/Snmek obrazovky 2022-04-01 215046.jpg  \n",
            "  inflating: OK/Snmek obrazovky 2022-04-01 215137.jpg  \n",
            "  inflating: OK/Snmek obrazovky 2022-04-01 215245.jpg  \n",
            "  inflating: OK/Snmek obrazovky 2022-04-01 215339.jpg  \n",
            "  inflating: OK/Snmek obrazovky 2022-04-01 215354.jpg  \n",
            "  inflating: OK/Snmek obrazovky 2022-04-01 215415.jpg  \n",
            "  inflating: OK/Snmek obrazovky 2022-04-01 215455.jpg  \n",
            "  inflating: OK/Snmek obrazovky 2022-04-01 220751.jpg  \n",
            "  inflating: OK/Snmek obrazovky 2022-04-01 220909.jpg  \n",
            "  inflating: OK/Snmek obrazovky 2022-04-01 221255.jpg  \n",
            "  inflating: OK/Snmek obrazovky 2022-04-01 221322.jpg  \n",
            "  inflating: OK/Snmek obrazovky 2022-04-01 221342.jpg  \n",
            "  inflating: OK/Snmek obrazovky 2022-04-01 221357.jpg  \n",
            "  inflating: OK/Snmek obrazovky 2022-04-01 221503.jpg  \n",
            "  inflating: OK/Snmek obrazovky 2022-04-01 221539.jpg  \n",
            "  inflating: OK/Snmek obrazovky 2022-04-01 221606.jpg  \n",
            "  inflating: OK/Snmek obrazovky 2022-04-01 221627.jpg  \n",
            "  inflating: OK/Snmek obrazovky 2022-04-01 221645.jpg  \n",
            "  inflating: OK/Snmek obrazovky 2022-04-01 221708.jpg  \n",
            "  inflating: OK/Snmek obrazovky 2022-04-01 221820.jpg  \n",
            "  inflating: OK/Snmek obrazovky 2022-04-01 221841.jpg  \n",
            "  inflating: OK/Snmek obrazovky 2022-04-01 221916.jpg  \n",
            "  inflating: OK/Snmek obrazovky 2022-04-01 222135.jpg  \n",
            "  inflating: OK/Snmek obrazovky 2022-04-01 222153.jpg  \n",
            "  inflating: OK/Snmek obrazovky 2022-04-01 222218.jpg  \n",
            "  inflating: OK/Snmek obrazovky 2022-04-01 222255.jpg  \n",
            "  inflating: OK/Snmek obrazovky 2022-04-01 222335.jpg  \n",
            "  inflating: OK/Snmek obrazovky 2022-04-01 222354.jpg  \n",
            "  inflating: OK/Snmek obrazovky 2022-04-01 222425.jpg  \n",
            "  inflating: OK/TB-0721-p12_fig1.jpg  \n",
            "  inflating: OK/bigstock-Automatic-Three-Dimensional-Pr-396383408.jpg  \n",
            "  inflating: OK/cool-hollowed-reptile-bcn3d-via-thingiverse-200327.jpg  \n",
            "  inflating: OK/e9a8evbwe0m81.jpg    \n",
            "  inflating: OK/fdm.jpg              \n",
            "  inflating: OK/file-20190320-93060-1q0qsy2.jpg  \n",
            "  inflating: OK/file-20190725-136781-153x4jj.jpg  \n",
            "  inflating: OK/gettyimages-534423775-170667a.jpg  \n",
            "  inflating: OK/images (1).jpg       \n",
            "  inflating: OK/images.jpg           \n",
            "  inflating: OK/istockphoto-1141975968-612x612.jpg  \n",
            "  inflating: OK/istockphoto-1301565754-170667a.jpg  \n",
            "  inflating: OK/maxresdefault.jpg    \n",
            "  inflating: OK/mechanical_3D_print.jpg  \n",
            "  inflating: OK/pin_low-poly-yoda-3d-printing-25616.jpg  \n",
            "  inflating: OK/print-in-place.jpg   \n",
            "  inflating: OK/smoothed-out-pla-prints-austin-wilson-via-wired-210709.jpg  \n",
            "  inflating: OK/stereolithography-photopolymer-3D-printer.jpg  \n",
            "  inflating: OK/tiny-3d-printed-castle-like-models-on-a-dlp-3d-pri-pinterest-190117.jpg  \n",
            "  inflating: OK/ultimaker-what-is-3d-printing-blog-OG.jpg  \n",
            "  inflating: OK/word-image-23.jpeg   \n",
            "  inflating: blobs/022zu332suox.jpg  \n",
            "  inflating: blobs/081125a3185ad9b00677b8b257de881a7db3a58d.jpg  \n",
            "  inflating: blobs/0jxdfa96kc661.jpg  \n",
            "  inflating: blobs/20181121_183833.jpg.ea9c42237831b786c533c3a5fcafd206.jpg  \n",
            "  inflating: blobs/20181122_192955.jpg.d37a9a1ea192c18c6943ba1a62c34220.jpg  \n",
            "  inflating: blobs/20181125_164127.jpg.9a864286d4500a980fa20361cb0988aa.jpg  \n",
            "  inflating: blobs/20304-111653-p1070975.jpg  \n",
            "  inflating: blobs/29pbte506hdy.jpg  \n",
            "  inflating: blobs/3D-Print-Over-Extrusion-main.jpg  \n",
            "  inflating: blobs/3D-Print-Over-Extrusion6.jpg  \n",
            "  inflating: blobs/3D-Printer-Zits-and-Blobs-2.jpg  \n",
            "  inflating: blobs/3D-Printer-Zits-and-Blobs-main.jpg  \n",
            "  inflating: blobs/3d-printer-stops-mid-print.jpg  \n",
            "  inflating: blobs/51f2c5ff19419223d46722bb470385ec982f0c1e.jpg  \n",
            "  inflating: blobs/5pn7sgalfp251.jpg  \n",
            "  inflating: blobs/7491294_WhatsAppImage2020-10-17at16_07_30.jpeg.1bc7ce7df38b9170c0d8d6a678752dd3.jpeg  \n",
            "  inflating: blobs/76588543-481deb80-64b5-11ea-95a6-dc1f29def56b.png  \n",
            "  inflating: blobs/Blobs-Zits-Pimples.jpg  \n",
            "  inflating: blobs/Blobs-and-Zits-00.png  \n",
            "  inflating: blobs/Blobs-and-zits-on-the-external-walls_Q640.jpg  \n",
            "  inflating: blobs/Droopingoverhang(500).png  \n",
            "  inflating: blobs/Featured-Image.jpg  \n",
            "  inflating: blobs/IMG_1262.JPG.78e92a8ee235aa7f7ec735d3004a1495.jpg  \n",
            "  inflating: blobs/MRbE9SDxVDADZTilDHtAgaccBU-lSq9bE9sz59YGJag.jpg  \n",
            "  inflating: blobs/MicrosoftTeams-image-2-300x300.png  \n",
            "  inflating: blobs/RJr8Emj_0TjYo5CUEVtEJw.jpeg  \n",
            "  inflating: blobs/applsci-10-04776-g013.png  \n",
            "  inflating: blobs/bd584ff6af77e058cbf07383869eaaf6f69074c5_2_690x459.jpg  \n",
            "  inflating: blobs/blobs-and-zits-1024x1024-1-1024x1024.jpg  \n",
            "  inflating: blobs/echoes.jpg        \n",
            "  inflating: blobs/f49cd2_6494849491864a5bac770482bd0f5eb8_mv2.png  \n",
            "  inflating: blobs/heavy-extrusion-problems-ultimaker-forum-181231.jpg  \n",
            "  inflating: blobs/how-to-stop-zits-3d-printing.jpg  \n",
            "  inflating: blobs/imadges (4).jpg   \n",
            "  inflating: blobs/image.png         \n",
            "  inflating: blobs/images (7).jpg    \n",
            "  inflating: blobs/images (9).jpg    \n",
            "  inflating: blobs/img_4930.jpg      \n",
            "  inflating: blobs/jTyk1.jpg         \n",
            "  inflating: blobs/over-extruding-1024x1024-1-1024x1024.jpg  \n",
            "  inflating: blobs/over-extrusion-3D-printing-3.jpg  \n",
            "  inflating: blobs/oz6iarx4d7711.jpg  \n",
            "  inflating: blobs/support-photo-studio1.jpg  \n",
            "  inflating: blobs/vasJH.jpg         \n",
            "  inflating: blobs/ymne73gakb661.jpg  \n",
            "  inflating: blobs/zits-and-blobs-negatively-affect-the-visual-appeal-patrick_43-via-hubs-210825_download.jpg  \n",
            "  inflating: blobs/zzxw7jzrcvs41.jpg  \n",
            "  inflating: cracks/24382-129778-20190220-061954.jpg  \n",
            "  inflating: cracks/LayerSplitting(500).png  \n",
            "  inflating: cracks/Layersepp.png    \n",
            "  inflating: cracks/Warping.png      \n",
            "  inflating: cracks/crack_ec4d7746-6a86-4fb2-a2bb-7879c5bcb3dc_x500.png  \n",
            "  inflating: cracks/cracking-1024x512.png  \n",
            "  inflating: cracks/filament-diameter-before-after.jpg  \n",
            "  inflating: cracks/image_10.jpg     \n",
            "  inflating: cracks/images.jpg       \n",
            "  inflating: cracks/layer-separation-can-occur-if-your-print-speed-is-ski52-vis-soliforum-210418_download.jpg  \n",
            "  inflating: cracks/layer-split-evi.png  \n",
            "  inflating: cracks/layers-splitting-or-cracking-1024x1024-1-1024x1024.jpg  \n",
            "  inflating: cracks/maxresdefault.jpg  \n",
            "  inflating: spaghetti/.jpg          \n",
            "  inflating: spaghetti/1.jpg         \n",
            "  inflating: spaghetti/149918_fea6b7ad1f911b19fff8646791e3edc9.jpg  \n",
            "  inflating: spaghetti/1_uWD6NUewKoDvmyWSHg3OIw.png  \n",
            "  inflating: spaghetti/1e0889f0d3cb71fe1a1dc15a23bcda8cf78d4241.jpg  \n",
            "  inflating: spaghetti/20-epic-3d-printing-fails.jpg  \n",
            "  inflating: spaghetti/2001lvzmzbg21.jpg  \n",
            "  inflating: spaghetti/20180528_212845.jpg  \n",
            "  inflating: spaghetti/23603570754_dcaefb87a8_z-300x222.jpg  \n",
            "  inflating: spaghetti/3D-Printing-Tips_4_9_2015.png  \n",
            "  inflating: spaghetti/3D-printed-gremlins-796x448_c.jpg  \n",
            "  inflating: spaghetti/3D-printed-vase-fail-spaghetti-prototyping-hive-800x800.jpg  \n",
            "  inflating: spaghetti/3D_Printing_FAIL.png  \n",
            "  inflating: spaghetti/3d-printing-mistakes-problems.jpg  \n",
            "  inflating: spaghetti/6hprdawknt341.jpg  \n",
            "  inflating: spaghetti/7088OT_01_18.jpg  \n",
            "  inflating: spaghetti/7f8cd9c5c260893ba5730d7dfdb5d263.jpg  \n",
            "  inflating: spaghetti/8136822496_3134392b22_z_medium.jpg  \n",
            "  inflating: spaghetti/81417big.jpg  \n",
            "  inflating: spaghetti/8267846360_9a97ae0e3a_k.jpg  \n",
            "  inflating: spaghetti/952db5a1f04aa00cb5b68fb7d5fcf8d6.jpg  \n",
            "  inflating: spaghetti/BQJc2OvV2AHOsWtLlewVIBSCohsgjZK2aK1Gf5ek_sQ.jpg  \n",
            "  inflating: spaghetti/Beautiful_Failures_-41.jpg  \n",
            "  inflating: spaghetti/C1UZKDsW8AAZ54B.jpg  \n",
            "  inflating: spaghetti/C3FHBKAXAAAE7CY.jpg  \n",
            "  inflating: spaghetti/DYWKrIBVQAAORHW.jfif  \n",
            "  inflating: spaghetti/Examples-of-complete-3D-printing-failures.png  \n",
            "  inflating: spaghetti/FH5JEQSIHF6MY0Q.jpg  \n",
            "  inflating: spaghetti/FM637CFIHF6MY36.jpg  \n",
            "  inflating: spaghetti/Failed-3D-Print.png  \n",
            "  inflating: spaghetti/HFtC39I.png   \n",
            "  inflating: spaghetti/IMGP3375.jpg  \n",
            "  inflating: spaghetti/IMG_20180213_103820491-1-648x486.jpg  \n",
            "  inflating: spaghetti/Percher_3DPrintFail.jpg  \n",
            "  inflating: spaghetti/Robosrpout-1.jpg  \n",
            "  inflating: spaghetti/SPoUHe4.jpg   \n",
            "  inflating: spaghetti/Screen-Shot-2021-06-29-at-3.10.33-PM.png  \n",
            "  inflating: spaghetti/Screen_Shot_2018-03-23_at_6.18.24_PM_large.png  \n",
            "  inflating: spaghetti/Snmek obrazovky 2022-04-01 213704.jpg  \n",
            "  inflating: spaghetti/X1-iMNIQr-jjoNt4ILXBQ508mJV2_YVm_-sBoeN4XSA.jpg  \n",
            "  inflating: spaghetti/_69320092_rich1.jpg  \n",
            "  inflating: spaghetti/_69324630_squiggles.jpg  \n",
            "  inflating: spaghetti/_69324806_legs.jpg  \n",
            "  inflating: spaghetti/a.jpg         \n",
            "  inflating: spaghetti/a294acc1307c1b9e3bd961efe235c4cb.png  \n",
            "  inflating: spaghetti/a3.jpg        \n",
            "  inflating: spaghetti/a84378fdda9ddd47f21daf1978cd9c50.png  \n",
            "  inflating: spaghetti/aaa.jpg       \n",
            "  inflating: spaghetti/aaaa.jpg      \n",
            "  inflating: spaghetti/aea353b13e8addbc12bc17ca0e93547d.jpg  \n",
            "  inflating: spaghetti/bedadherence-fail_1_watermark_1000x759.jpg  \n",
            "  inflating: spaghetti/cb7afa69396b8da7b092bcea0337193654a8ae99e3597e58851c8ba742c716e7_1.jpg  \n",
            "  inflating: spaghetti/error.jpg     \n",
            "  inflating: spaghetti/fail3.jpg     \n",
            "  inflating: spaghetti/failed-3d-print-260nw-778660537.jpg  \n",
            "  inflating: spaghetti/failed-print-3D-printing.jpg  \n",
            "  inflating: spaghetti/failed-print-head4er-900x506.jpg  \n",
            "  inflating: spaghetti/failedprint2_img_5eb0af2d67ead.jpg  \n",
            "  inflating: spaghetti/failsupport-300x300.jpg  \n",
            "  inflating: spaghetti/fallingsupports-1-768x768.jpg  \n",
            "  inflating: spaghetti/file.jpg      \n",
            "  inflating: spaghetti/g.jpg         \n",
            "  inflating: spaghetti/i.jpg         \n",
            "  inflating: spaghetti/iO4sbDW.jpeg  \n",
            "  inflating: spaghetti/ig-kevincaron-petg_fail-300x300.jpg  \n",
            "  inflating: spaghetti/image-asset_img_5eb08bcaea8e1.jpg  \n",
            "  inflating: spaghetti/images (1).jpg  \n",
            "  inflating: spaghetti/images (10).jpg  \n",
            "  inflating: spaghetti/images (2).jpg  \n",
            "  inflating: spaghetti/images (3).jpg  \n",
            "  inflating: spaghetti/images (4).jpg  \n",
            "  inflating: spaghetti/images (5).jpg  \n",
            "  inflating: spaghetti/images (6).jpg  \n",
            "  inflating: spaghetti/images (7).jpg  \n",
            "  inflating: spaghetti/images (8).jpg  \n",
            "  inflating: spaghetti/images (9).jpg  \n",
            "  inflating: spaghetti/images.jpg    \n",
            "  inflating: spaghetti/istockphoto-507545376-612x612.jpg  \n",
            "  inflating: spaghetti/lhnjE3N.jpg   \n",
            "  inflating: spaghetti/maxresdefault (1).jpg  \n",
            "  inflating: spaghetti/maxresdefault (2).jpg  \n",
            "  inflating: spaghetti/maxresdefault (4).jpg  \n",
            "  inflating: spaghetti/maxresdefault.jpg  \n",
            "  inflating: spaghetti/mistakes_cover-600x353.jpg  \n",
            "  inflating: spaghetti/o.jpg         \n",
            "  inflating: spaghetti/plastic-explosions-are-common-and-can-get-quite-ha-pinterest-200229_download.jpg  \n",
            "  inflating: spaghetti/printfail.jpg  \n",
            "  inflating: spaghetti/qlj3mjszp2s51.jpg  \n",
            "  inflating: spaghetti/rooster-malfunction-1.jpg  \n",
            "  inflating: spaghetti/s.jpg         \n",
            "  inflating: spaghetti/spag-640.png  \n",
            "  inflating: spaghetti/spaghetti-monster-3D-print.jpg  \n",
            "  inflating: spaghetti/spaghetti.jpg  \n",
            "  inflating: spaghetti/tsd-rwg42985-via-youtube-200923.jpg  \n",
            "  inflating: spaghetti/tumblr_moc63xtOl31sukl1qo1_1280.jpg  \n",
            "  inflating: spaghetti/tumblr_o5xoa63Rmh1thio9do1_1280.jpg  \n",
            "  inflating: spaghetti/u.jpg         \n",
            "  inflating: spaghetti/unnamed.png   \n",
            "  inflating: spaghetti/vRQMKNk.png   \n",
            "  inflating: spaghetti/voxelab-aquila-3d-printer-body-6-1024x576.jpg  \n",
            "  inflating: spaghetti/vzzh4e8q0l8y.jpg  \n",
            "  inflating: stringing/11668_2019_735_Fig8_HTML.jpg  \n",
            "  inflating: stringing/12d81eb1ef0cc2747a96a1996f0b3c2809d13859_2_767x1024.jpg  \n",
            "  inflating: stringing/15.png        \n",
            "  inflating: stringing/1587402796095-img_1296.jpeg  \n",
            "  inflating: stringing/1606760480-IMG_20201130_2014231.jpg  \n",
            "  inflating: stringing/2ee66b62d220e28ea6c2614b94b22ba553cd3a98.jpeg  \n",
            "  inflating: stringing/3317811b7a5636eaa23d34e018bffe5b2afc6e51.jpg  \n",
            "  inflating: stringing/3368-15530-stringing.png  \n",
            "  inflating: stringing/3D-Print-Stringing1.jpg  \n",
            "  inflating: stringing/3D-Printing-Test-Stringing-and-Oozing-PET-Filament-Review.jpg  \n",
            "  inflating: stringing/3D-removestrings-landm-cu-857x640.jpg  \n",
            "  inflating: stringing/DSC01187_x500.png  \n",
            "  inflating: stringing/How_to_fix_stringing_Stringing_model.jpg  \n",
            "  inflating: stringing/How_to_fix_stringing_Temperature_effect.jpg  \n",
            "  inflating: stringing/IMG_0184.jpg  \n",
            "  inflating: stringing/IMG_0275.jpg  \n",
            "  inflating: stringing/IMG_20200217_231433-1-1024x672.jpg  \n",
            "  inflating: stringing/IMG_2843.JPG  \n",
            "  inflating: stringing/IMG_6958.jpg  \n",
            "  inflating: stringing/Knurled-Twist-Container-800px-min (1).jpg  \n",
            "  inflating: stringing/Retraction-Settings.png  \n",
            "  inflating: stringing/Retraction_PHOTO.jpg  \n",
            "  inflating: stringing/Snmek obrazovky 2022-04-01 211534.jpg  \n",
            "  inflating: stringing/Snmek obrazovky 2022-04-01 211614.jpg  \n",
            "  inflating: stringing/Snmek obrazovky 2022-04-01 211921.jpg  \n",
            "  inflating: stringing/Snmek obrazovky 2022-04-01 212045.jpg  \n",
            "  inflating: stringing/Snmek obrazovky 2022-04-01 212059.jpg  \n",
            "  inflating: stringing/Snmek obrazovky 2022-04-01 212119.jpg  \n",
            "  inflating: stringing/Snmek obrazovky 2022-04-01 212132.jpg  \n",
            "  inflating: stringing/Snmek obrazovky 2022-04-01 212410.jpg  \n",
            "  inflating: stringing/Snmek obrazovky 2022-04-01 212821.jpg  \n",
            "  inflating: stringing/Snmek obrazovky 2022-04-01 213218.jpg  \n",
            "  inflating: stringing/Snmek obrazovky 2022-04-01 213645.jpg  \n",
            "  inflating: stringing/Snmek obrazovky 2022-04-01 213930.jpg  \n",
            "  inflating: stringing/Snmek obrazovky 2022-04-01 213942.jpg  \n",
            "  inflating: stringing/Snmek obrazovky 2022-04-01 214222.jpg  \n",
            "  inflating: stringing/Snmek obrazovky 2022-04-01 214731.jpg  \n",
            "  inflating: stringing/Snmek obrazovky 2022-04-01 220831.jpg  \n",
            "  inflating: stringing/Snmek obrazovky 2022-04-01 221432.jpg  \n",
            "  inflating: stringing/Snmek obrazovky 2022-04-01 222006.jpg  \n",
            "  inflating: stringing/Snmek obrazovky 2022-04-01 222038.jpg  \n",
            "  inflating: stringing/Stringing (1).jpg  \n",
            "  inflating: stringing/Stringing-small.jpg  \n",
            "  inflating: stringing/Thing3510948resize.jpg  \n",
            "  inflating: stringing/What-causes-stringing-in-3d-printing.jpg  \n",
            "  inflating: stringing/YgAqr.jpg     \n",
            "  inflating: stringing/a-finished-print-affected-by-stringing-raider1284-reddit-190327.jpg  \n",
            "  inflating: stringing/a-typical-stringing-test-print-that-didnt-come-ou-reddit-191024.jpg  \n",
            "  inflating: stringing/anotherstringy.jpg  \n",
            "  inflating: stringing/chybka.jpg    \n",
            "  inflating: stringing/f6b2xxg4dtfz.jpg  \n",
            "  inflating: stringing/facd398dea6b34b0b27e3a76e7bb5584.jpg  \n",
            "  inflating: stringing/hairs-and-stringing-1024x1024-1-1024x1024.jpg  \n",
            "  inflating: stringing/image0.jpeg   \n",
            "  inflating: stringing/image02.png   \n",
            "  inflating: stringing/images (1).jpg  \n",
            "  inflating: stringing/images (2).jpg  \n",
            "  inflating: stringing/images (3).jpg  \n",
            "  inflating: stringing/images (4).jpg  \n",
            "  inflating: stringing/images (5).jpg  \n",
            "  inflating: stringing/images (6).jpg  \n",
            "  inflating: stringing/images.jpg    \n",
            "  inflating: stringing/ismages (1).jpg  \n",
            "  inflating: stringing/ooze-shield (1).jpg  \n",
            "  inflating: stringing/ooze-shield.jpg  \n",
            "  inflating: stringing/oozeshield.jpg  \n",
            "  inflating: stringing/oozing-3.png  \n",
            "  inflating: stringing/oozing_3D_printing.jpg  \n",
            "  inflating: stringing/print-engelenhaar-dddrop.jpg  \n",
            "  inflating: stringing/purge-tower-and-ooze-shield-after-print.jpg  \n",
            "  inflating: stringing/r99szrewj5o61.jpg  \n",
            "  inflating: stringing/stahovn (1).jpg  \n",
            "  inflating: stringing/stahovn.jpg   \n",
            "  inflating: stringing/string-in-3d-printing.jpg  \n",
            "  inflating: stringing/stringing-22.43.27.jpg  \n",
            "  inflating: stringing/stringing-impresion-3d-1024x682.jpg  \n",
            "  inflating: stringing/stringing.jpg  \n",
            "  inflating: stringing/stringing2.jpg  \n",
            "  inflating: stringing/stringing_oozing.jpeg  \n",
            "  inflating: stringing/strings.jpg   \n",
            "  inflating: stringing/stringy1-e1516085917974.webp  \n",
            "  inflating: stringing/thomas-sanladerer-youtube-181024.jpg  \n",
            "  inflating: stringing/unnamed.jpg   \n",
            "  inflating: stringing/unsnamed.jpg  \n",
            "  inflating: stringing/vcrw7fljn93s.jpg  \n",
            "  inflating: stringing/vyl68ibhs5m81.jpg  \n",
            "  inflating: under exstrosion/10-1.webp  \n",
            "  inflating: under exstrosion/20181121_232026.jpg.6bd6575af4ff2cae1bebc4dab8f444c2.jpg  \n",
            "  inflating: under exstrosion/20689-113752-img-20181028-155553909.jpg  \n",
            "  inflating: under exstrosion/297b923058a2e7af046f92e2cfd28ec126c8d25b_2_690x459.jpg  \n",
            "  inflating: under exstrosion/5qkZW.jpg  \n",
            "  inflating: under exstrosion/Curling.png  \n",
            "  inflating: under exstrosion/DSC_2587.JPG.992069d9b99453467f8b6c30ce87f987.jpg  \n",
            "  inflating: under exstrosion/Retraction-errors-in-a-3D-printed-airfoil.png  \n",
            "  inflating: under exstrosion/VBx_B9j7Uc5rG5p3g0UlIsC7mo0QhKNoqZ02iSWXP3I.jpg  \n",
            "  inflating: under exstrosion/Voxelab-Aquila-3D-printer-testing-4-Gambody.jpg  \n",
            "  inflating: under exstrosion/acc4a25ca7b6457c66545fa24efb602eb6f5822e_2_768x1024.jpg  \n",
            "  inflating: under exstrosion/bb.jpg.9c19d97425fd1484b3e4efded295c4aa.jpg  \n",
            "  inflating: under exstrosion/dDMOa.jpg  \n",
            "  inflating: under exstrosion/f9001f7140cdf9d5f1959ae1d91bb417576fd53e.jpg  \n",
            "  inflating: under exstrosion/hM-HxyNattYAlXdlE7I-42xWd8r4Vfn5OGjyf4jUeeQ.jpg  \n",
            "  inflating: under exstrosion/holes-or-gaps-in-top-layers.jpg  \n",
            "  inflating: under exstrosion/images (8).jpg  \n",
            "  inflating: under exstrosion/jf4hhrog2g901.jpg  \n",
            "  inflating: under exstrosion/lzzPE.jpg  \n"
          ]
        }
      ]
    },
    {
      "cell_type": "code",
      "source": [
        "import os\n",
        "import cv2\n",
        "import numpy as np\n",
        "import tensorflow as tf\n",
        "from sklearn.metrics import confusion_matrix\n",
        "from sklearn.model_selection import train_test_split\n",
        "import matplotlib.pyplot as plt\n",
        "from tensorflow.keras.preprocessing.image import ImageDataGenerator"
      ],
      "metadata": {
        "id": "gdimnbPm_5P7"
      },
      "execution_count": 4,
      "outputs": []
    },
    {
      "cell_type": "code",
      "source": [
        "folders = ['OK', 'blobs', 'cracks', 'stringing', 'spaghetti', 'under exstrosion']"
      ],
      "metadata": {
        "id": "u7UxrqsYAKLR"
      },
      "execution_count": 5,
      "outputs": []
    },
    {
      "cell_type": "code",
      "source": [
        "labels = np.arange(len(folders))"
      ],
      "metadata": {
        "id": "jYr5w6HFAsm8"
      },
      "execution_count": 6,
      "outputs": []
    },
    {
      "cell_type": "code",
      "source": [
        "folder_paths = [os.path.join('/content/Images', folder) for folder in folders]\n"
      ],
      "metadata": {
        "id": "CDnHm-9-A0iD"
      },
      "execution_count": 7,
      "outputs": []
    },
    {
      "cell_type": "code",
      "source": [
        "def load_images(folder, label):\n",
        "    images = []\n",
        "    labels = []\n",
        "    for filename in os.listdir(folder):\n",
        "        img_path = os.path.join(folder, filename)\n",
        "        img = cv2.imread(img_path)\n",
        "        img = cv2.resize(img, (224, 224))  # Resize the image to 224x224 pixels\n",
        "        img = cv2.cvtColor(img, cv2.COLOR_BGR2RGB)  # Convert the image to RGB format\n",
        "        images.append(img)\n",
        "        labels.append(label)\n",
        "    return images, labels"
      ],
      "metadata": {
        "id": "93YN6xPQBNPG"
      },
      "execution_count": 31,
      "outputs": []
    },
    {
      "cell_type": "code",
      "source": [
        "images = []\n",
        "all_labels = []\n",
        "for folder_path, label in zip(folder_paths, labels):\n",
        "    folder_images, folder_labels = load_images(folder_path, label)\n",
        "    images.extend(folder_images)\n",
        "    all_labels.extend(folder_labels)"
      ],
      "metadata": {
        "id": "V_m9kAUqBPYp"
      },
      "execution_count": 32,
      "outputs": []
    },
    {
      "cell_type": "code",
      "source": [
        "# Convert images and labels to numpy arrays\n",
        "images = np.array(images)\n",
        "all_labels = np.array(all_labels)"
      ],
      "metadata": {
        "id": "ZJ8yx4QFBRA4"
      },
      "execution_count": 35,
      "outputs": []
    },
    {
      "cell_type": "code",
      "source": [
        "all_labels"
      ],
      "metadata": {
        "colab": {
          "base_uri": "https://localhost:8080/"
        },
        "id": "tPcvwF0vZGFp",
        "outputId": "deefec9b-6285-4ba7-9489-47b147066a1c"
      },
      "execution_count": 76,
      "outputs": [
        {
          "output_type": "execute_result",
          "data": {
            "text/plain": [
              "array([0, 0, 0, 0, 0, 0, 0, 0, 0, 0, 0, 0, 0, 0, 0, 0, 0, 0, 0, 0, 0, 0,\n",
              "       0, 0, 0, 0, 0, 0, 0, 0, 0, 0, 0, 0, 0, 0, 0, 0, 0, 0, 0, 0, 0, 0,\n",
              "       0, 0, 0, 0, 0, 0, 0, 0, 0, 0, 0, 0, 0, 0, 0, 0, 0, 0, 0, 0, 0, 0,\n",
              "       0, 0, 0, 0, 0, 0, 0, 0, 0, 0, 0, 0, 0, 0, 0, 0, 0, 0, 0, 0, 0, 0,\n",
              "       0, 0, 0, 0, 0, 0, 0, 0, 0, 0, 0, 0, 0, 0, 0, 0, 0, 0, 0, 0, 0, 0,\n",
              "       0, 0, 0, 0, 0, 0, 0, 0, 0, 0, 0, 0, 0, 1, 1, 1, 1, 1, 1, 1, 1, 1,\n",
              "       1, 1, 1, 1, 1, 1, 1, 1, 1, 1, 1, 1, 1, 1, 1, 1, 1, 1, 1, 1, 1, 1,\n",
              "       1, 1, 1, 1, 1, 1, 1, 1, 1, 1, 1, 1, 1, 1, 1, 1, 2, 2, 2, 2, 2, 2,\n",
              "       2, 2, 2, 2, 2, 2, 2, 3, 3, 3, 3, 3, 3, 3, 3, 3, 3, 3, 3, 3, 3, 3,\n",
              "       3, 3, 3, 3, 3, 3, 3, 3, 3, 3, 3, 3, 3, 3, 3, 3, 3, 3, 3, 3, 3, 3,\n",
              "       3, 3, 3, 3, 3, 3, 3, 3, 3, 3, 3, 3, 3, 3, 3, 3, 3, 3, 3, 3, 3, 3,\n",
              "       3, 3, 3, 3, 3, 3, 3, 3, 3, 3, 3, 3, 3, 3, 3, 3, 3, 3, 3, 3, 3, 3,\n",
              "       3, 3, 3, 3, 3, 4, 4, 4, 4, 4, 4, 4, 4, 4, 4, 4, 4, 4, 4, 4, 4, 4,\n",
              "       4, 4, 4, 4, 4, 4, 4, 4, 4, 4, 4, 4, 4, 4, 4, 4, 4, 4, 4, 4, 4, 4,\n",
              "       4, 4, 4, 4, 4, 4, 4, 4, 4, 4, 4, 4, 4, 4, 4, 4, 4, 4, 4, 4, 4, 4,\n",
              "       4, 4, 4, 4, 4, 4, 4, 4, 4, 4, 4, 4, 4, 4, 4, 4, 4, 4, 4, 4, 4, 4,\n",
              "       4, 4, 4, 4, 4, 4, 4, 4, 4, 4, 4, 4, 4, 4, 4, 4, 4, 4, 5, 5, 5, 5,\n",
              "       5, 5, 5, 5, 5, 5, 5, 5, 5, 5, 5, 5, 5, 5, 5])"
            ]
          },
          "metadata": {},
          "execution_count": 76
        }
      ]
    },
    {
      "cell_type": "code",
      "source": [
        "# Split the data into training and testing sets\n",
        "train_images, test_images, train_labels, test_labels = train_test_split(images, all_labels, test_size=0.2, random_state=42)"
      ],
      "metadata": {
        "id": "zM-UiFnJBcYy"
      },
      "execution_count": 36,
      "outputs": []
    },
    {
      "cell_type": "code",
      "source": [
        "# Calculate class weights\n",
        "class_weights = dict(enumerate(len(train_labels) / (len(folders) * np.bincount(train_labels))))"
      ],
      "metadata": {
        "id": "hrFt1tlkBkH7"
      },
      "execution_count": 37,
      "outputs": []
    },
    {
      "cell_type": "code",
      "source": [
        "datagen = ImageDataGenerator(\n",
        "    rotation_range=20,\n",
        "    width_shift_range=0.2,\n",
        "    height_shift_range=0.2,\n",
        "    horizontal_flip=True,\n",
        "    # preprocessing_function=lambda img: cv2.cvtColor(cv2.Canny(cv2.GaussianBlur(img.astype(np.uint8), (5, 5), 0), 100, 200), cv2.COLOR_GRAY2RGB)  # Apply Canny edge detection after Gaussian blur\n",
        ")"
      ],
      "metadata": {
        "id": "p8CTJbS8CtOT"
      },
      "execution_count": 38,
      "outputs": []
    },
    {
      "cell_type": "code",
      "source": [
        "datagen.fit(train_images)"
      ],
      "metadata": {
        "id": "NrRFkvWYCvUr"
      },
      "execution_count": 39,
      "outputs": []
    },
    {
      "cell_type": "code",
      "source": [
        "from tensorflow.keras.applications import ResNet50, InceptionV3, VGG16\n",
        "from tensorflow.keras.layers import Dense, Dropout, GlobalAveragePooling2D\n",
        "from tensorflow.keras.models import Model\n"
      ],
      "metadata": {
        "id": "5_8lTgPEOlZp"
      },
      "execution_count": 40,
      "outputs": []
    },
    {
      "cell_type": "code",
      "source": [
        "# Load the pre-trained models without the top layer\n",
        "resnet_base_model = ResNet50(weights='imagenet', include_top=False, input_shape=(224, 224, 3))\n",
        "inception_base_model = InceptionV3(weights='imagenet', include_top=False, input_shape=(224, 224, 3))\n",
        "vgg_base_model = VGG16(weights='imagenet', include_top=False, input_shape=(224, 224, 3))\n"
      ],
      "metadata": {
        "id": "h9NiOoDSOfR_"
      },
      "execution_count": 41,
      "outputs": []
    },
    {
      "cell_type": "code",
      "source": [
        "# Add a custom top layer for each model\n",
        "resnet_x = resnet_base_model.output\n",
        "resnet_x = GlobalAveragePooling2D()(resnet_x)\n",
        "resnet_x = Dense(64, activation='relu')(resnet_x)\n",
        "resnet_x = Dropout(0.5)(resnet_x)\n",
        "resnet_predictions = Dense(len(folders), activation='softmax')(resnet_x)"
      ],
      "metadata": {
        "id": "PwnK8GqJC5ax"
      },
      "execution_count": 42,
      "outputs": []
    },
    {
      "cell_type": "code",
      "source": [
        "inception_x = inception_base_model.output\n",
        "inception_x = GlobalAveragePooling2D()(inception_x)\n",
        "inception_x = Dense(64, activation='relu')(inception_x)\n",
        "inception_x = Dropout(0.5)(inception_x)\n",
        "inception_predictions = Dense(len(folders), activation='softmax')(inception_x)"
      ],
      "metadata": {
        "id": "vy8m9LHxOwFk"
      },
      "execution_count": 43,
      "outputs": []
    },
    {
      "cell_type": "code",
      "source": [
        "vgg_x = vgg_base_model.output\n",
        "vgg_x = GlobalAveragePooling2D()(vgg_x)\n",
        "vgg_x = Dense(64, activation='relu')(vgg_x)\n",
        "vgg_x = Dropout(0.5)(vgg_x)\n",
        "vgg_predictions = Dense(len(folders), activation='softmax')(vgg_x)"
      ],
      "metadata": {
        "id": "YHGhvGukOz64"
      },
      "execution_count": 44,
      "outputs": []
    },
    {
      "cell_type": "code",
      "source": [
        "resnet_model = Model(inputs=resnet_base_model.input, outputs=resnet_predictions)\n",
        "inception_model = Model(inputs=inception_base_model.input, outputs=inception_predictions)\n",
        "vgg_model = Model(inputs=vgg_base_model.input, outputs=vgg_predictions)\n"
      ],
      "metadata": {
        "id": "4O7P3bb4O6L5"
      },
      "execution_count": 45,
      "outputs": []
    },
    {
      "cell_type": "code",
      "source": [
        "# Freeze the base layers of the pre-trained models\n",
        "for layer in resnet_base_model.layers:\n",
        "    layer.trainable = False\n",
        "\n",
        "for layer in inception_base_model.layers:\n",
        "    layer.trainable = False\n",
        "\n",
        "for layer in vgg_base_model.layers:\n",
        "    layer.trainable = False"
      ],
      "metadata": {
        "id": "rJrlR-CkFjN0"
      },
      "execution_count": 46,
      "outputs": []
    },
    {
      "cell_type": "code",
      "source": [
        "resnet_model.compile(tf.keras.optimizers.RMSprop(lr=0.0001), loss='sparse_categorical_crossentropy', metrics=['accuracy'])\n",
        "resnet_history = resnet_model.fit(datagen.flow(train_images, train_labels, batch_size=32), epochs=20, validation_data=(test_images, test_labels), class_weight=class_weights)"
      ],
      "metadata": {
        "colab": {
          "base_uri": "https://localhost:8080/"
        },
        "id": "DnUnQezKRkkl",
        "outputId": "b3376bf2-8335-4075-dd95-17d459695613"
      },
      "execution_count": 52,
      "outputs": [
        {
          "output_type": "stream",
          "name": "stderr",
          "text": [
            "WARNING:absl:`lr` is deprecated in Keras optimizer, please use `learning_rate` or use the legacy optimizer, e.g.,tf.keras.optimizers.legacy.RMSprop.\n"
          ]
        },
        {
          "output_type": "stream",
          "name": "stdout",
          "text": [
            "Epoch 1/20\n",
            "10/10 [==============================] - 8s 435ms/step - loss: 0.5241 - accuracy: 0.8103 - val_loss: 0.6158 - val_accuracy: 0.7436\n",
            "Epoch 2/20\n",
            "10/10 [==============================] - 5s 489ms/step - loss: 0.3956 - accuracy: 0.8810 - val_loss: 0.5508 - val_accuracy: 0.7564\n",
            "Epoch 3/20\n",
            "10/10 [==============================] - 4s 374ms/step - loss: 0.1906 - accuracy: 0.9100 - val_loss: 0.6835 - val_accuracy: 0.7564\n",
            "Epoch 4/20\n",
            "10/10 [==============================] - 4s 372ms/step - loss: 0.2899 - accuracy: 0.8810 - val_loss: 0.6295 - val_accuracy: 0.7436\n",
            "Epoch 5/20\n",
            "10/10 [==============================] - 5s 492ms/step - loss: 0.2858 - accuracy: 0.8907 - val_loss: 0.5985 - val_accuracy: 0.7308\n",
            "Epoch 6/20\n",
            "10/10 [==============================] - 4s 383ms/step - loss: 0.2383 - accuracy: 0.9132 - val_loss: 0.6360 - val_accuracy: 0.7436\n",
            "Epoch 7/20\n",
            "10/10 [==============================] - 5s 456ms/step - loss: 0.1924 - accuracy: 0.9293 - val_loss: 0.6678 - val_accuracy: 0.7821\n",
            "Epoch 8/20\n",
            "10/10 [==============================] - 5s 484ms/step - loss: 0.2424 - accuracy: 0.9003 - val_loss: 0.6229 - val_accuracy: 0.7564\n",
            "Epoch 9/20\n",
            "10/10 [==============================] - 5s 459ms/step - loss: 0.2527 - accuracy: 0.9293 - val_loss: 0.7497 - val_accuracy: 0.7564\n",
            "Epoch 10/20\n",
            "10/10 [==============================] - 4s 411ms/step - loss: 0.2109 - accuracy: 0.9228 - val_loss: 0.6289 - val_accuracy: 0.7949\n",
            "Epoch 11/20\n",
            "10/10 [==============================] - 4s 395ms/step - loss: 0.1736 - accuracy: 0.9228 - val_loss: 0.6928 - val_accuracy: 0.8077\n",
            "Epoch 12/20\n",
            "10/10 [==============================] - 4s 381ms/step - loss: 0.2206 - accuracy: 0.9293 - val_loss: 0.7842 - val_accuracy: 0.7436\n",
            "Epoch 13/20\n",
            "10/10 [==============================] - 5s 471ms/step - loss: 0.1800 - accuracy: 0.9486 - val_loss: 0.8260 - val_accuracy: 0.7051\n",
            "Epoch 14/20\n",
            "10/10 [==============================] - 4s 371ms/step - loss: 0.2165 - accuracy: 0.9293 - val_loss: 0.8539 - val_accuracy: 0.7564\n",
            "Epoch 15/20\n",
            "10/10 [==============================] - 4s 368ms/step - loss: 0.1609 - accuracy: 0.9228 - val_loss: 0.7582 - val_accuracy: 0.7821\n",
            "Epoch 16/20\n",
            "10/10 [==============================] - 5s 449ms/step - loss: 0.1855 - accuracy: 0.9389 - val_loss: 0.7295 - val_accuracy: 0.7692\n",
            "Epoch 17/20\n",
            "10/10 [==============================] - 4s 369ms/step - loss: 0.1728 - accuracy: 0.9389 - val_loss: 0.9491 - val_accuracy: 0.7564\n",
            "Epoch 18/20\n",
            "10/10 [==============================] - 4s 379ms/step - loss: 0.1837 - accuracy: 0.9293 - val_loss: 0.8270 - val_accuracy: 0.7821\n",
            "Epoch 19/20\n",
            "10/10 [==============================] - 5s 471ms/step - loss: 0.1517 - accuracy: 0.9518 - val_loss: 0.7942 - val_accuracy: 0.7692\n",
            "Epoch 20/20\n",
            "10/10 [==============================] - 4s 379ms/step - loss: 0.1398 - accuracy: 0.9582 - val_loss: 0.7570 - val_accuracy: 0.7821\n"
          ]
        }
      ]
    },
    {
      "cell_type": "code",
      "source": [
        "vgg_model.compile(optimizer=tf.keras.optimizers.RMSprop(lr=0.0001), loss='sparse_categorical_crossentropy', metrics=['accuracy'])\n",
        "vgg_history = vgg_model.fit(datagen.flow(train_images, train_labels, batch_size=32), epochs=20, validation_data=(test_images, test_labels), class_weight=class_weights)"
      ],
      "metadata": {
        "colab": {
          "base_uri": "https://localhost:8080/"
        },
        "id": "SFrd6q_MSD8V",
        "outputId": "3b7eabbb-1108-4d47-c478-b76c3b49dc58"
      },
      "execution_count": 53,
      "outputs": [
        {
          "output_type": "stream",
          "name": "stderr",
          "text": [
            "WARNING:absl:`lr` is deprecated in Keras optimizer, please use `learning_rate` or use the legacy optimizer, e.g.,tf.keras.optimizers.legacy.RMSprop.\n"
          ]
        },
        {
          "output_type": "stream",
          "name": "stdout",
          "text": [
            "Epoch 1/20\n",
            "10/10 [==============================] - 5s 372ms/step - loss: 0.9968 - accuracy: 0.6688 - val_loss: 1.3270 - val_accuracy: 0.6667\n",
            "Epoch 2/20\n",
            "10/10 [==============================] - 5s 493ms/step - loss: 0.8015 - accuracy: 0.7203 - val_loss: 1.1399 - val_accuracy: 0.7051\n",
            "Epoch 3/20\n",
            "10/10 [==============================] - 4s 388ms/step - loss: 0.7799 - accuracy: 0.7428 - val_loss: 1.1735 - val_accuracy: 0.7308\n",
            "Epoch 4/20\n",
            "10/10 [==============================] - 4s 398ms/step - loss: 0.6126 - accuracy: 0.7492 - val_loss: 1.1877 - val_accuracy: 0.6667\n",
            "Epoch 5/20\n",
            "10/10 [==============================] - 5s 468ms/step - loss: 0.6413 - accuracy: 0.7685 - val_loss: 1.2969 - val_accuracy: 0.6282\n",
            "Epoch 6/20\n",
            "10/10 [==============================] - 5s 457ms/step - loss: 0.5245 - accuracy: 0.7395 - val_loss: 1.1472 - val_accuracy: 0.7564\n",
            "Epoch 7/20\n",
            "10/10 [==============================] - 5s 475ms/step - loss: 0.5639 - accuracy: 0.7814 - val_loss: 1.2220 - val_accuracy: 0.6538\n",
            "Epoch 8/20\n",
            "10/10 [==============================] - 6s 599ms/step - loss: 0.7021 - accuracy: 0.7814 - val_loss: 1.2658 - val_accuracy: 0.6795\n",
            "Epoch 9/20\n",
            "10/10 [==============================] - 7s 720ms/step - loss: 0.6043 - accuracy: 0.7653 - val_loss: 1.1838 - val_accuracy: 0.7051\n",
            "Epoch 10/20\n",
            "10/10 [==============================] - 6s 570ms/step - loss: 0.5240 - accuracy: 0.7974 - val_loss: 1.1491 - val_accuracy: 0.7179\n",
            "Epoch 11/20\n",
            "10/10 [==============================] - 5s 459ms/step - loss: 0.4952 - accuracy: 0.8006 - val_loss: 1.1945 - val_accuracy: 0.7308\n",
            "Epoch 12/20\n",
            "10/10 [==============================] - 4s 381ms/step - loss: 0.5037 - accuracy: 0.7749 - val_loss: 1.2891 - val_accuracy: 0.6923\n",
            "Epoch 13/20\n",
            "10/10 [==============================] - 4s 389ms/step - loss: 0.4653 - accuracy: 0.8360 - val_loss: 1.1204 - val_accuracy: 0.7179\n",
            "Epoch 14/20\n",
            "10/10 [==============================] - 4s 385ms/step - loss: 0.5511 - accuracy: 0.8296 - val_loss: 1.1931 - val_accuracy: 0.7564\n",
            "Epoch 15/20\n",
            "10/10 [==============================] - 5s 560ms/step - loss: 0.4357 - accuracy: 0.8424 - val_loss: 1.2705 - val_accuracy: 0.7051\n",
            "Epoch 16/20\n",
            "10/10 [==============================] - 8s 799ms/step - loss: 0.4583 - accuracy: 0.8360 - val_loss: 1.2743 - val_accuracy: 0.7308\n",
            "Epoch 17/20\n",
            "10/10 [==============================] - 7s 734ms/step - loss: 0.3795 - accuracy: 0.8521 - val_loss: 1.2197 - val_accuracy: 0.7436\n",
            "Epoch 18/20\n",
            "10/10 [==============================] - 6s 514ms/step - loss: 0.3658 - accuracy: 0.8457 - val_loss: 1.3107 - val_accuracy: 0.6795\n",
            "Epoch 19/20\n",
            "10/10 [==============================] - 5s 502ms/step - loss: 0.4638 - accuracy: 0.8199 - val_loss: 1.2916 - val_accuracy: 0.6923\n",
            "Epoch 20/20\n",
            "10/10 [==============================] - 5s 490ms/step - loss: 0.3759 - accuracy: 0.8296 - val_loss: 1.3674 - val_accuracy: 0.7308\n"
          ]
        }
      ]
    },
    {
      "cell_type": "code",
      "source": [
        "inception_model.compile(optimizer=tf.keras.optimizers.RMSprop(lr=0.0001), loss='sparse_categorical_crossentropy', metrics=['accuracy'])\n",
        "inception_history = inception_model.fit(datagen.flow(train_images, train_labels, batch_size=32), epochs=20, validation_data=(test_images, test_labels), class_weight=class_weights)"
      ],
      "metadata": {
        "colab": {
          "base_uri": "https://localhost:8080/"
        },
        "id": "I4G5ogB2Fl_f",
        "outputId": "6fb93b22-2682-466c-bbda-eb28ca14f5a5"
      },
      "execution_count": 54,
      "outputs": [
        {
          "output_type": "stream",
          "name": "stderr",
          "text": [
            "WARNING:absl:`lr` is deprecated in Keras optimizer, please use `learning_rate` or use the legacy optimizer, e.g.,tf.keras.optimizers.legacy.RMSprop.\n"
          ]
        },
        {
          "output_type": "stream",
          "name": "stdout",
          "text": [
            "Epoch 1/20\n",
            "10/10 [==============================] - 9s 485ms/step - loss: 1.7922 - accuracy: 0.2090 - val_loss: 1.7922 - val_accuracy: 0.2308\n",
            "Epoch 2/20\n",
            "10/10 [==============================] - 5s 498ms/step - loss: 1.7921 - accuracy: 0.2669 - val_loss: 1.7923 - val_accuracy: 0.2308\n",
            "Epoch 3/20\n",
            "10/10 [==============================] - 4s 377ms/step - loss: 1.7920 - accuracy: 0.2058 - val_loss: 1.7922 - val_accuracy: 0.2308\n",
            "Epoch 4/20\n",
            "10/10 [==============================] - 4s 354ms/step - loss: 1.7922 - accuracy: 0.2669 - val_loss: 1.7919 - val_accuracy: 0.2308\n",
            "Epoch 5/20\n",
            "10/10 [==============================] - 5s 499ms/step - loss: 1.7920 - accuracy: 0.2669 - val_loss: 1.7919 - val_accuracy: 0.2308\n",
            "Epoch 6/20\n",
            "10/10 [==============================] - 4s 360ms/step - loss: 1.7920 - accuracy: 0.2669 - val_loss: 1.7918 - val_accuracy: 0.2308\n",
            "Epoch 7/20\n",
            "10/10 [==============================] - 4s 360ms/step - loss: 1.7919 - accuracy: 0.2669 - val_loss: 1.7917 - val_accuracy: 0.2308\n",
            "Epoch 8/20\n",
            "10/10 [==============================] - 5s 484ms/step - loss: 1.7932 - accuracy: 0.1801 - val_loss: 1.7917 - val_accuracy: 0.2308\n",
            "Epoch 9/20\n",
            "10/10 [==============================] - 4s 359ms/step - loss: 1.7920 - accuracy: 0.2669 - val_loss: 1.7917 - val_accuracy: 0.2308\n",
            "Epoch 10/20\n",
            "10/10 [==============================] - 4s 439ms/step - loss: 1.7948 - accuracy: 0.0675 - val_loss: 1.7917 - val_accuracy: 0.2308\n",
            "Epoch 11/20\n",
            "10/10 [==============================] - 4s 465ms/step - loss: 1.7920 - accuracy: 0.2283 - val_loss: 1.7917 - val_accuracy: 0.2308\n",
            "Epoch 12/20\n",
            "10/10 [==============================] - 4s 432ms/step - loss: 1.7921 - accuracy: 0.1383 - val_loss: 1.7913 - val_accuracy: 0.2308\n",
            "Epoch 13/20\n",
            "10/10 [==============================] - 5s 465ms/step - loss: 1.7921 - accuracy: 0.2476 - val_loss: 1.7911 - val_accuracy: 0.2308\n",
            "Epoch 14/20\n",
            "10/10 [==============================] - 4s 425ms/step - loss: 1.7920 - accuracy: 0.2058 - val_loss: 1.7910 - val_accuracy: 0.2308\n",
            "Epoch 15/20\n",
            "10/10 [==============================] - 4s 364ms/step - loss: 1.7920 - accuracy: 0.2669 - val_loss: 1.7908 - val_accuracy: 0.2308\n",
            "Epoch 16/20\n",
            "10/10 [==============================] - 5s 490ms/step - loss: 1.7920 - accuracy: 0.2669 - val_loss: 1.7906 - val_accuracy: 0.2308\n",
            "Epoch 17/20\n",
            "10/10 [==============================] - 4s 351ms/step - loss: 1.7920 - accuracy: 0.2347 - val_loss: 1.7906 - val_accuracy: 0.2308\n",
            "Epoch 18/20\n",
            "10/10 [==============================] - 5s 481ms/step - loss: 1.7916 - accuracy: 0.2444 - val_loss: 1.7967 - val_accuracy: 0.2179\n",
            "Epoch 19/20\n",
            "10/10 [==============================] - 4s 365ms/step - loss: 1.7974 - accuracy: 0.2379 - val_loss: 1.7902 - val_accuracy: 0.2308\n",
            "Epoch 20/20\n",
            "10/10 [==============================] - 9s 971ms/step - loss: 1.7919 - accuracy: 0.2669 - val_loss: 1.7900 - val_accuracy: 0.2308\n"
          ]
        }
      ]
    },
    {
      "cell_type": "code",
      "source": [
        "!pip install -U efficientnet"
      ],
      "metadata": {
        "colab": {
          "base_uri": "https://localhost:8080/"
        },
        "id": "2-JQES9rTifz",
        "outputId": "ba938638-bada-4e6a-8369-fe1636013af1"
      },
      "execution_count": 56,
      "outputs": [
        {
          "output_type": "stream",
          "name": "stdout",
          "text": [
            "Looking in indexes: https://pypi.org/simple, https://us-python.pkg.dev/colab-wheels/public/simple/\n",
            "Collecting efficientnet\n",
            "  Downloading efficientnet-1.1.1-py3-none-any.whl (18 kB)\n",
            "Collecting keras-applications<=1.0.8,>=1.0.7 (from efficientnet)\n",
            "  Downloading Keras_Applications-1.0.8-py3-none-any.whl (50 kB)\n",
            "\u001b[2K     \u001b[90m━━━━━━━━━━━━━━━━━━━━━━━━━━━━━━━━━━━━━━━━\u001b[0m \u001b[32m50.7/50.7 kB\u001b[0m \u001b[31m6.5 MB/s\u001b[0m eta \u001b[36m0:00:00\u001b[0m\n",
            "\u001b[?25hRequirement already satisfied: scikit-image in /usr/local/lib/python3.10/dist-packages (from efficientnet) (0.19.3)\n",
            "Requirement already satisfied: numpy>=1.9.1 in /usr/local/lib/python3.10/dist-packages (from keras-applications<=1.0.8,>=1.0.7->efficientnet) (1.22.4)\n",
            "Requirement already satisfied: h5py in /usr/local/lib/python3.10/dist-packages (from keras-applications<=1.0.8,>=1.0.7->efficientnet) (3.8.0)\n",
            "Requirement already satisfied: scipy>=1.4.1 in /usr/local/lib/python3.10/dist-packages (from scikit-image->efficientnet) (1.10.1)\n",
            "Requirement already satisfied: networkx>=2.2 in /usr/local/lib/python3.10/dist-packages (from scikit-image->efficientnet) (3.1)\n",
            "Requirement already satisfied: pillow!=7.1.0,!=7.1.1,!=8.3.0,>=6.1.0 in /usr/local/lib/python3.10/dist-packages (from scikit-image->efficientnet) (8.4.0)\n",
            "Requirement already satisfied: imageio>=2.4.1 in /usr/local/lib/python3.10/dist-packages (from scikit-image->efficientnet) (2.25.1)\n",
            "Requirement already satisfied: tifffile>=2019.7.26 in /usr/local/lib/python3.10/dist-packages (from scikit-image->efficientnet) (2023.4.12)\n",
            "Requirement already satisfied: PyWavelets>=1.1.1 in /usr/local/lib/python3.10/dist-packages (from scikit-image->efficientnet) (1.4.1)\n",
            "Requirement already satisfied: packaging>=20.0 in /usr/local/lib/python3.10/dist-packages (from scikit-image->efficientnet) (23.1)\n",
            "Installing collected packages: keras-applications, efficientnet\n",
            "Successfully installed efficientnet-1.1.1 keras-applications-1.0.8\n"
          ]
        }
      ]
    },
    {
      "cell_type": "code",
      "source": [
        "from efficientnet.tfkeras import EfficientNetB0\n",
        "efficientnet_base_model = EfficientNetB0(weights='imagenet', include_top=False, input_shape=(224, 224, 3))\n",
        "\n",
        "efficientnet_x = efficientnet_base_model.output\n",
        "efficientnet_x = GlobalAveragePooling2D()(efficientnet_x)\n",
        "efficientnet_x = Dense(64, activation='relu')(efficientnet_x)\n",
        "efficientnet_x = Dropout(0.5)(efficientnet_x)\n",
        "efficientnet_predictions = Dense(len(folders), activation='softmax')(efficientnet_x)\n",
        "\n",
        "efficientnet_model = Model(inputs=efficientnet_base_model.input, outputs=efficientnet_predictions)\n",
        "\n",
        "efficientnet_model.compile(optimizer=tf.keras.optimizers.RMSprop(lr=0.0001), loss='sparse_categorical_crossentropy', metrics=['accuracy'])\n",
        "efficientnet_history = efficientnet_model.fit(datagen.flow(train_images, train_labels, batch_size=32), epochs=20, validation_data=(test_images, test_labels), class_weight=class_weights)"
      ],
      "metadata": {
        "colab": {
          "base_uri": "https://localhost:8080/"
        },
        "id": "SKjDtqgTTCz7",
        "outputId": "08c15d9e-5171-4e4d-82f2-a4677777e817"
      },
      "execution_count": 66,
      "outputs": [
        {
          "output_type": "stream",
          "name": "stderr",
          "text": [
            "WARNING:absl:`lr` is deprecated in Keras optimizer, please use `learning_rate` or use the legacy optimizer, e.g.,tf.keras.optimizers.legacy.RMSprop.\n"
          ]
        },
        {
          "output_type": "stream",
          "name": "stdout",
          "text": [
            "Epoch 1/20\n",
            "10/10 [==============================] - 43s 510ms/step - loss: 1.4139 - accuracy: 0.4984 - val_loss: 2.8234 - val_accuracy: 0.3590\n",
            "Epoch 2/20\n",
            "10/10 [==============================] - 6s 556ms/step - loss: 0.6983 - accuracy: 0.7492 - val_loss: 1.6940 - val_accuracy: 0.3590\n",
            "Epoch 3/20\n",
            "10/10 [==============================] - 6s 553ms/step - loss: 0.3940 - accuracy: 0.8875 - val_loss: 1.7424 - val_accuracy: 0.4615\n",
            "Epoch 4/20\n",
            "10/10 [==============================] - 4s 428ms/step - loss: 0.2464 - accuracy: 0.9293 - val_loss: 1.7315 - val_accuracy: 0.5641\n",
            "Epoch 5/20\n",
            "10/10 [==============================] - 5s 458ms/step - loss: 0.2278 - accuracy: 0.9389 - val_loss: 1.4106 - val_accuracy: 0.5769\n",
            "Epoch 6/20\n",
            "10/10 [==============================] - 6s 544ms/step - loss: 0.2124 - accuracy: 0.9325 - val_loss: 2.5392 - val_accuracy: 0.5385\n",
            "Epoch 7/20\n",
            "10/10 [==============================] - 6s 547ms/step - loss: 0.2365 - accuracy: 0.9228 - val_loss: 2.1603 - val_accuracy: 0.6538\n",
            "Epoch 8/20\n",
            "10/10 [==============================] - 5s 449ms/step - loss: 0.1460 - accuracy: 0.9518 - val_loss: 4.8928 - val_accuracy: 0.6282\n",
            "Epoch 9/20\n",
            "10/10 [==============================] - 5s 438ms/step - loss: 0.2173 - accuracy: 0.9550 - val_loss: 3.0983 - val_accuracy: 0.6795\n",
            "Epoch 10/20\n",
            "10/10 [==============================] - 4s 422ms/step - loss: 0.0871 - accuracy: 0.9711 - val_loss: 2.0191 - val_accuracy: 0.7179\n",
            "Epoch 11/20\n",
            "10/10 [==============================] - 6s 554ms/step - loss: 0.2325 - accuracy: 0.9325 - val_loss: 2.8821 - val_accuracy: 0.7308\n",
            "Epoch 12/20\n",
            "10/10 [==============================] - 4s 426ms/step - loss: 0.1028 - accuracy: 0.9646 - val_loss: 2.0915 - val_accuracy: 0.7949\n",
            "Epoch 13/20\n",
            "10/10 [==============================] - 4s 430ms/step - loss: 0.4363 - accuracy: 0.9357 - val_loss: 3.1429 - val_accuracy: 0.6795\n",
            "Epoch 14/20\n",
            "10/10 [==============================] - 5s 484ms/step - loss: 0.1550 - accuracy: 0.9550 - val_loss: 2.6211 - val_accuracy: 0.7564\n",
            "Epoch 15/20\n",
            "10/10 [==============================] - 4s 431ms/step - loss: 0.0818 - accuracy: 0.9711 - val_loss: 4.0880 - val_accuracy: 0.7179\n",
            "Epoch 16/20\n",
            "10/10 [==============================] - 5s 543ms/step - loss: 0.4000 - accuracy: 0.9421 - val_loss: 4.1636 - val_accuracy: 0.7308\n",
            "Epoch 17/20\n",
            "10/10 [==============================] - 4s 423ms/step - loss: 0.0377 - accuracy: 0.9871 - val_loss: 3.0762 - val_accuracy: 0.7692\n",
            "Epoch 18/20\n",
            "10/10 [==============================] - 4s 434ms/step - loss: 0.1942 - accuracy: 0.9550 - val_loss: 3.3494 - val_accuracy: 0.7436\n",
            "Epoch 19/20\n",
            "10/10 [==============================] - 5s 541ms/step - loss: 0.0278 - accuracy: 0.9936 - val_loss: 2.6381 - val_accuracy: 0.7692\n",
            "Epoch 20/20\n",
            "10/10 [==============================] - 5s 479ms/step - loss: 0.0407 - accuracy: 0.9871 - val_loss: 2.6351 - val_accuracy: 0.7949\n"
          ]
        }
      ]
    },
    {
      "cell_type": "code",
      "source": [],
      "metadata": {
        "id": "0-1S06HKbgb2"
      },
      "execution_count": null,
      "outputs": []
    },
    {
      "cell_type": "code",
      "source": [
        "resnet_train_accuracy = resnet_history.history['accuracy']\n",
        "resnet_test_accuracy = resnet_history.history['val_accuracy']\n",
        "\n",
        "inception_train_accuracy = inception_history.history['accuracy']\n",
        "inception_test_accuracy = inception_history.history['val_accuracy']\n",
        "\n",
        "vgg_train_accuracy = vgg_history.history['accuracy']\n",
        "vgg_test_accuracy = vgg_history.history['val_accuracy']\n",
        "\n",
        "efficientnet_train_accuracy = efficientnet_history.history['accuracy']\n",
        "efficientnet_test_accuracy = efficientnet_history.history['val_accuracy']"
      ],
      "metadata": {
        "id": "oZTHrQ26Uwl8"
      },
      "execution_count": 67,
      "outputs": []
    },
    {
      "cell_type": "code",
      "source": [
        "epochs = range(1, 21)\n",
        "plt.figure(figsize=(10, 5))\n",
        "plt.plot(epochs, resnet_train_accuracy, label='ResNet50 Train')\n",
        "plt.plot(epochs, inception_train_accuracy, label='InceptionV3 Train')\n",
        "plt.plot(epochs, vgg_train_accuracy, label='VGG16 Train')\n",
        "plt.plot(epochs, efficientnet_train_accuracy, label='EfficientNet Train')\n",
        "plt.title('Train Accuracy Comparison')\n",
        "plt.xlabel('Epochs')\n",
        "plt.ylabel('Accuracy')\n",
        "plt.legend()\n",
        "plt.show()\n",
        "\n",
        "plt.figure(figsize=(10, 5))\n",
        "plt.plot(epochs, resnet_test_accuracy, label='ResNet50 Test')\n",
        "plt.plot(epochs, inception_test_accuracy, label='InceptionV3 Test')\n",
        "plt.plot(epochs, vgg_test_accuracy, label='VGG16 Test')\n",
        "plt.plot(epochs, efficientnet_test_accuracy, label='EfficientNet Test')\n",
        "plt.title('Test Accuracy Comparison')\n",
        "plt.xlabel('Epochs')\n",
        "plt.ylabel('Accuracy')\n",
        "plt.legend()\n",
        "plt.show()\n"
      ],
      "metadata": {
        "colab": {
          "base_uri": "https://localhost:8080/",
          "height": 957
        },
        "id": "JYCRRYqhPeEM",
        "outputId": "cbe6d8af-18aa-46df-c662-b07508668ed9"
      },
      "execution_count": 68,
      "outputs": [
        {
          "output_type": "display_data",
          "data": {
            "text/plain": [
              "<Figure size 1000x500 with 1 Axes>"
            ],
            "image/png": "[encoded data removed]"
          },
          "metadata": {}
        },
        {
          "output_type": "display_data",
          "data": {
            "text/plain": [
              "<Figure size 1000x500 with 1 Axes>"
            ],
            "image/png": "[encoded data removed]"
          },
          "metadata": {}
        }
      ]
    },
    {
      "cell_type": "code",
      "source": [
        "import numpy as np\n",
        "import matplotlib.pyplot as plt\n",
        "import seaborn as sns\n",
        "from sklearn.metrics import confusion_matrix\n",
        "\n",
        "predictions = np.argmax(efficientnet_model.predict(test_images), axis=-1)\n",
        "\n",
        "cm = confusion_matrix(test_labels, predictions)\n",
        "class_labels =  ['OK', 'blobs', 'cracks', 'stringing', 'spaghetti', 'under exstrosion']\n",
        "\n",
        "plt.figure(figsize=(8, 6))\n",
        "sns.heatmap(cm, annot=True, fmt='d', cmap='Blues', xticklabels=class_labels, yticklabels=class_labels)\n",
        "plt.xlabel('Predicted')\n",
        "plt.ylabel('Actual')\n",
        "plt.title('Confusion Matrix')\n",
        "plt.show()"
      ],
      "metadata": {
        "colab": {
          "base_uri": "https://localhost:8080/",
          "height": 683
        },
        "id": "vm8IoaXpKl2z",
        "outputId": "273805a9-051b-4e4e-8a74-c1104f5ab067"
      },
      "execution_count": 69,
      "outputs": [
        {
          "output_type": "stream",
          "name": "stdout",
          "text": [
            "3/3 [==============================] - 1s 66ms/step\n"
          ]
        },
        {
          "output_type": "display_data",
          "data": {
            "text/plain": [
              "<Figure size 800x600 with 2 Axes>"
            ],
            "image/png": "[encoded data removed]"
          },
          "metadata": {}
        }
      ]
    },
    {
      "cell_type": "code",
      "source": [
        "from sklearn.metrics import classification_report\n",
        "\n",
        "# Obtain predictions on the test set\n",
        "predictions = np.argmax(efficientnet_model.predict(test_images), axis=-1)\n",
        "\n",
        "# Calculate and print classification report\n",
        "# Define class labels\n",
        "class_labels =  ['OK', 'blobs', 'cracks', 'stringing', 'spaghetti', 'under exstrosion']\n",
        "report = classification_report(test_labels, predictions, target_names=class_labels)\n",
        "print(report)\n"
      ],
      "metadata": {
        "colab": {
          "base_uri": "https://localhost:8080/"
        },
        "id": "XnduRC-tKviN",
        "outputId": "6225fe05-cbfe-460d-d44c-5c082d5d00cc"
      },
      "execution_count": 70,
      "outputs": [
        {
          "output_type": "stream",
          "name": "stdout",
          "text": [
            "3/3 [==============================] - 0s 53ms/step\n",
            "                  precision    recall  f1-score   support\n",
            "\n",
            "              OK       0.91      0.94      0.93        34\n",
            "           blobs       0.62      0.91      0.74        11\n",
            "          cracks       0.50      0.33      0.40         3\n",
            "       stringing       0.43      0.33      0.38         9\n",
            "       spaghetti       0.94      0.89      0.91        18\n",
            "under exstrosion       0.00      0.00      0.00         3\n",
            "\n",
            "        accuracy                           0.79        78\n",
            "       macro avg       0.57      0.57      0.56        78\n",
            "    weighted avg       0.77      0.79      0.78        78\n",
            "\n"
          ]
        }
      ]
    },
    {
      "cell_type": "code",
      "source": [
        "\n",
        "# Obtain predictions on the test set\n",
        "predictions = np.argmax(resnet_model.predict(test_images), axis=-1)\n",
        "\n",
        "# Calculate and print classification report\n",
        "# Define class labels\n",
        "class_labels =  ['OK', 'blobs', 'cracks', 'stringing', 'spaghetti', 'under exstrosion']\n",
        "report = classification_report(test_labels, predictions, target_names=class_labels)\n",
        "print(report)\n"
      ],
      "metadata": {
        "colab": {
          "base_uri": "https://localhost:8080/"
        },
        "id": "TE3eK-O9RIAY",
        "outputId": "a75afc29-3fdf-433f-c05a-c782421f9dd5"
      },
      "execution_count": 71,
      "outputs": [
        {
          "output_type": "stream",
          "name": "stdout",
          "text": [
            "3/3 [==============================] - 0s 83ms/step\n",
            "                  precision    recall  f1-score   support\n",
            "\n",
            "              OK       0.81      0.88      0.85        34\n",
            "           blobs       0.70      0.64      0.67        11\n",
            "          cracks       0.50      0.33      0.40         3\n",
            "       stringing       0.58      0.78      0.67         9\n",
            "       spaghetti       1.00      0.89      0.94        18\n",
            "under exstrosion       0.00      0.00      0.00         3\n",
            "\n",
            "        accuracy                           0.78        78\n",
            "       macro avg       0.60      0.59      0.59        78\n",
            "    weighted avg       0.77      0.78      0.77        78\n",
            "\n"
          ]
        }
      ]
    },
    {
      "cell_type": "code",
      "source": [
        "resnet_model.save_weights('/content/Images/resnet_model_weights.h5')\n",
        "resnet_model.save('/content/Images/resnet_model.h5')"
      ],
      "metadata": {
        "id": "ih2kMX9nKyRp"
      },
      "execution_count": 64,
      "outputs": []
    },
    {
      "cell_type": "code",
      "source": [
        "efficientnet_model.save_weights('/content/Images/efficient_model_weights.h5')\n",
        "efficientnet_model.save('/content/Images/efficient_model.h5')"
      ],
      "metadata": {
        "id": "FOhFECGfODbY"
      },
      "execution_count": 84,
      "outputs": []
    },
    {
      "cell_type": "code",
      "source": [
        "from tensorflow.keras.models import load_model\n",
        "loaded_model = load_model('/content/Images/efficient_model.h5')"
      ],
      "metadata": {
        "id": "VrW3CuGCWJ9D"
      },
      "execution_count": 73,
      "outputs": []
    },
    {
      "cell_type": "code",
      "source": [
        "# Load and preprocess the image you want to classify\n",
        "image_path = '/content/Images/spaghetti/149918_fea6b7ad1f911b19fff8646791e3edc9.jpg'  # Replace with the path to your image\n",
        "image = cv2.imread(image_path)\n",
        "image = cv2.resize(image, (224, 224))\n",
        "image = cv2.cvtColor(image, cv2.COLOR_BGR2RGB)\n",
        "image = np.expand_dims(image, axis=0)\n",
        "\n",
        "# Make predictions on the image using the loaded model\n",
        "predictions = loaded_model.predict(image)\n",
        "\n",
        "# # Get the predicted class\n",
        "predicted_class = np.argmax(predictions[0])\n",
        "\n",
        "# Print the predicted class\n",
        "print(\"Predicted Class:\", predicted_class)"
      ],
      "metadata": {
        "colab": {
          "base_uri": "https://localhost:8080/"
        },
        "id": "z1M5BwlBYuyf",
        "outputId": "987f8ad6-e623-41a0-8d2c-21683c5703a1"
      },
      "execution_count": 88,
      "outputs": [
        {
          "output_type": "stream",
          "name": "stdout",
          "text": [
            "1/1 [==============================] - 0s 25ms/step\n",
            "Predicted Class: 4\n"
          ]
        }
      ]
    },
    {
      "cell_type": "code",
      "source": [
        "folders = ['OK', 'blobs', 'cracks', 'stringing', 'spaghetti', 'under exstrosion']"
      ],
      "metadata": {
        "id": "0TGIgi0scNSN"
      },
      "execution_count": 90,
      "outputs": []
    },
    {
      "cell_type": "code",
      "source": [
        "folders[predicted_class]"
      ],
      "metadata": {
        "colab": {
          "base_uri": "https://localhost:8080/",
          "height": 35
        },
        "id": "YZ4rQDjAY3y-",
        "outputId": "06cc6b16-d443-49c5-92d1-cecfdcb20f80"
      },
      "execution_count": 91,
      "outputs": [
        {
          "output_type": "execute_result",
          "data": {
            "text/plain": [
              "'spaghetti'"
            ],
            "application/vnd.google.colaboratory.intrinsic+json": {
              "type": "string"
            }
          },
          "metadata": {},
          "execution_count": 91
        }
      ]
    },
    {
      "cell_type": "code",
      "source": [],
      "metadata": {
        "id": "2RbstQ9pZ3zN"
      },
      "execution_count": null,
      "outputs": []
    }
  ]
}